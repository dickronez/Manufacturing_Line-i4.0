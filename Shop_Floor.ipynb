{
  "nbformat": 4,
  "nbformat_minor": 0,
  "metadata": {
    "kernelspec": {
      "name": "python3",
      "display_name": "Python 3"
    },
    "language_info": {
      "codemirror_mode": {
        "name": "ipython",
        "version": 3
      },
      "file_extension": ".py",
      "mimetype": "text/x-python",
      "name": "python",
      "nbconvert_exporter": "python",
      "pygments_lexer": "ipython3",
      "version": "3.6.4"
    },
    "colab": {
      "name": "Shop_Floor.ipynb",
      "version": "0.3.2",
      "provenance": [],
      "toc_visible": true
    },
    "accelerator": "GPU"
  },
  "cells": [
    {
      "cell_type": "code",
      "metadata": {
        "id": "e3Zwtc8byC6a",
        "colab_type": "code",
        "colab": {}
      },
      "source": [
        "import numpy as np\n",
        "import pandas as pd\n",
        "from xgboost import XGBClassifier\n",
        "from sklearn.metrics import matthews_corrcoef, roc_auc_score\n",
        "from sklearn.model_selection import cross_val_score, StratifiedKFold\n",
        "import matplotlib.pyplot as plt\n",
        "import seaborn as sns\n",
        "%matplotlib inline"
      ],
      "execution_count": 0,
      "outputs": []
    },
    {
      "cell_type": "code",
      "metadata": {
        "id": "L3uubgecyC6e",
        "colab_type": "code",
        "colab": {}
      },
      "source": [
        "date_chunks = pd.read_csv(\"train_date.csv\", index_col=0, chunksize=100000, dtype=np.float32)"
      ],
      "execution_count": 0,
      "outputs": []
    },
    {
      "cell_type": "code",
      "metadata": {
        "id": "ZJNeoHYVyC6h",
        "colab_type": "code",
        "colab": {},
        "outputId": "933b44c0-d987-4742-fd74-c0163cb13171"
      },
      "source": [
        "for chunk in date_chunks:\n",
        "    print(chunk.head())\n",
        "    break"
      ],
      "execution_count": 0,
      "outputs": [
        {
          "output_type": "stream",
          "text": [
            "         L0_S0_D1     L0_S0_D3     L0_S0_D5     L0_S0_D7     L0_S0_D9  \\\n",
            "Id                                                                      \n",
            "4.0     82.239998    82.239998    82.239998    82.239998    82.239998   \n",
            "6.0           NaN          NaN          NaN          NaN          NaN   \n",
            "7.0   1618.699951  1618.699951  1618.699951  1618.699951  1618.699951   \n",
            "9.0   1149.199951  1149.199951  1149.199951  1149.199951  1149.199951   \n",
            "11.0   602.640015   602.640015   602.640015   602.640015   602.640015   \n",
            "\n",
            "        L0_S0_D11    L0_S0_D13    L0_S0_D15    L0_S0_D17    L0_S0_D19  \\\n",
            "Id                                                                      \n",
            "4.0     82.239998    82.239998    82.239998    82.239998    82.239998   \n",
            "6.0           NaN          NaN          NaN          NaN          NaN   \n",
            "7.0   1618.699951  1618.699951  1618.699951  1618.699951  1618.699951   \n",
            "9.0   1149.199951  1149.199951  1149.199951  1149.199951  1149.199951   \n",
            "11.0   602.640015   602.640015   602.640015   602.640015   602.640015   \n",
            "\n",
            "          ...       L3_S50_D4246  L3_S50_D4248  L3_S50_D4250  L3_S50_D4252  \\\n",
            "Id        ...                                                                \n",
            "4.0       ...                NaN           NaN           NaN           NaN   \n",
            "6.0       ...                NaN           NaN           NaN           NaN   \n",
            "7.0       ...                NaN           NaN           NaN           NaN   \n",
            "9.0       ...                NaN           NaN           NaN           NaN   \n",
            "11.0      ...                NaN           NaN           NaN           NaN   \n",
            "\n",
            "      L3_S50_D4254  L3_S51_D4255  L3_S51_D4257  L3_S51_D4259  L3_S51_D4261  \\\n",
            "Id                                                                           \n",
            "4.0            NaN           NaN           NaN           NaN           NaN   \n",
            "6.0            NaN           NaN           NaN           NaN           NaN   \n",
            "7.0            NaN           NaN           NaN           NaN           NaN   \n",
            "9.0            NaN           NaN           NaN           NaN           NaN   \n",
            "11.0           NaN           NaN           NaN           NaN           NaN   \n",
            "\n",
            "      L3_S51_D4263  \n",
            "Id                  \n",
            "4.0            NaN  \n",
            "6.0            NaN  \n",
            "7.0            NaN  \n",
            "9.0            NaN  \n",
            "11.0           NaN  \n",
            "\n",
            "[5 rows x 1156 columns]\n"
          ],
          "name": "stdout"
        }
      ]
    },
    {
      "cell_type": "markdown",
      "metadata": {
        "id": "JGj5EP4xyC6k",
        "colab_type": "text"
      },
      "source": [
        "The data for this competition represents measurements of parts as they move through Bosch's production lines. Each part has a unique Id. The goal is to predict which parts will fail quality control (represented by a 'Response' = 1).\n",
        "\n",
        "The dataset contains an extremely large number of anonymized features. Features are named according to a convention that tells you the production line, the station on the line, and a feature number. E.g. L3_S36_F3939 is a feature measured on line 3, station 36, and is feature number 3939.\n",
        "\n",
        "On account of the large size of the dataset, we have separated the files by the type of feature they contain: numerical, categorical, and finally, a file with date features. The date features provide a timestamp for when each measurement was taken. Each date column ends in a number that corresponds to the previous feature number. E.g. the value of L0_S0_D1 is the time at which L0_S0_F0 was taken.\n",
        "\n",
        "In addition to being one of the largest datasets (in terms of number of features) ever hosted on Kaggle, the ground truth for this competition is highly imbalanced. Together, these two attributes are expected to make this a challenging problem."
      ]
    },
    {
      "cell_type": "markdown",
      "metadata": {
        "id": "CJ0gfkPayC6l",
        "colab_type": "text"
      },
      "source": [
        "**Description**\n",
        "\n",
        "train_numeric.csv - the training set numeric features (this file contains the 'Response' variable)\n",
        "\n",
        "test_numeric.csv - the test set numeric features (you must predict the 'Response' for these Ids)\n",
        "\n",
        "train_categorical.csv - the training set categorical features\n",
        "\n",
        "test_categorical.csv - the test set categorical features\n",
        "\n",
        "train_date.csv - the training set date features\n",
        "\n",
        "test_date.csv - the test set date features\n",
        "\n",
        "sample_submission.csv - a sample submission file in the correct format"
      ]
    },
    {
      "cell_type": "code",
      "metadata": {
        "id": "dnCdT5mQyC6m",
        "colab_type": "code",
        "colab": {}
      },
      "source": [
        "num_chunks = pd.read_csv(\"train_numeric.csv\", index_col=0, usecols=list(range(969)), chunksize=100000, dtype=np.float32)"
      ],
      "execution_count": 0,
      "outputs": []
    },
    {
      "cell_type": "code",
      "metadata": {
        "id": "1X25tMZCyC6o",
        "colab_type": "code",
        "colab": {},
        "outputId": "ff8c3426-a541-4564-e4fe-27e72f1dfd1b"
      },
      "source": [
        "for chunk in num_chunks:\n",
        "    print(print(chunk.head()))\n",
        "    break"
      ],
      "execution_count": 0,
      "outputs": [
        {
          "output_type": "stream",
          "text": [
            "      L0_S0_F0  L0_S0_F2  L0_S0_F4  L0_S0_F6  L0_S0_F8  L0_S0_F10  L0_S0_F12  \\\n",
            "Id                                                                             \n",
            "4.0      0.030    -0.034    -0.197    -0.179     0.118      0.116     -0.015   \n",
            "6.0        NaN       NaN       NaN       NaN       NaN        NaN        NaN   \n",
            "7.0      0.088     0.086     0.003    -0.052     0.161      0.025     -0.015   \n",
            "9.0     -0.036    -0.064     0.294     0.330     0.074      0.161      0.022   \n",
            "11.0    -0.055    -0.086     0.294     0.330     0.118      0.025      0.030   \n",
            "\n",
            "      L0_S0_F14  L0_S0_F16  L0_S0_F18      ...       L3_S50_F4243  \\\n",
            "Id                                         ...                      \n",
            "4.0      -0.032      0.020      0.083      ...                NaN   \n",
            "6.0         NaN        NaN        NaN      ...                NaN   \n",
            "7.0      -0.072     -0.225     -0.147      ...                NaN   \n",
            "9.0       0.128     -0.026     -0.046      ...                NaN   \n",
            "11.0      0.168     -0.169     -0.099      ...                NaN   \n",
            "\n",
            "      L3_S50_F4245  L3_S50_F4247  L3_S50_F4249  L3_S50_F4251  L3_S50_F4253  \\\n",
            "Id                                                                           \n",
            "4.0            NaN           NaN           NaN           NaN           NaN   \n",
            "6.0            NaN           NaN           NaN           NaN           NaN   \n",
            "7.0            NaN           NaN           NaN           NaN           NaN   \n",
            "9.0            NaN           NaN           NaN           NaN           NaN   \n",
            "11.0           NaN           NaN           NaN           NaN           NaN   \n",
            "\n",
            "      L3_S51_F4256  L3_S51_F4258  L3_S51_F4260  L3_S51_F4262  \n",
            "Id                                                            \n",
            "4.0            NaN           NaN           NaN           NaN  \n",
            "6.0            NaN           NaN           NaN           NaN  \n",
            "7.0            NaN           NaN           NaN           NaN  \n",
            "9.0            NaN           NaN           NaN           NaN  \n",
            "11.0           NaN           NaN           NaN           NaN  \n",
            "\n",
            "[5 rows x 968 columns]\n",
            "None\n"
          ],
          "name": "stdout"
        }
      ]
    },
    {
      "cell_type": "code",
      "metadata": {
        "id": "DKnTdzUmyC6s",
        "colab_type": "code",
        "colab": {}
      },
      "source": [
        "X = pd.concat([pd.concat([dchunk, nchunk], axis=1).sample(frac=0.05)\n",
        "               for dchunk, nchunk in zip(date_chunks, num_chunks)])"
      ],
      "execution_count": 0,
      "outputs": []
    },
    {
      "cell_type": "code",
      "metadata": {
        "id": "1DnGGEfUyC6u",
        "colab_type": "code",
        "colab": {},
        "outputId": "5211a979-351f-4197-c3d4-b59cfddc5500"
      },
      "source": [
        "y = pd.read_csv(\"train_numeric.csv\", index_col=0, usecols=[0,969], dtype=np.float32).loc[X.index].values.ravel()"
      ],
      "execution_count": 0,
      "outputs": [
        {
          "output_type": "stream",
          "text": [
            "C:\\ProgramData\\Anaconda3\\lib\\site-packages\\numpy\\lib\\arraysetops.py:472: FutureWarning: elementwise comparison failed; returning scalar instead, but in the future will perform elementwise comparison\n",
            "  mask |= (ar1 == a)\n"
          ],
          "name": "stderr"
        }
      ]
    },
    {
      "cell_type": "code",
      "metadata": {
        "id": "9-iDtD7wyC6w",
        "colab_type": "code",
        "colab": {}
      },
      "source": [
        "X = X.values"
      ],
      "execution_count": 0,
      "outputs": []
    },
    {
      "cell_type": "code",
      "metadata": {
        "id": "I2WEXvNIyC6z",
        "colab_type": "code",
        "colab": {},
        "outputId": "90e005bb-c7b7-4c02-a7d9-0647cf2f7e0b"
      },
      "source": [
        "y"
      ],
      "execution_count": 0,
      "outputs": [
        {
          "output_type": "execute_result",
          "data": {
            "text/plain": [
              "array([0., 0., 0., ..., 0., 0., 0.], dtype=float32)"
            ]
          },
          "metadata": {
            "tags": []
          },
          "execution_count": 9
        }
      ]
    },
    {
      "cell_type": "code",
      "metadata": {
        "id": "TmSF_QdLyC62",
        "colab_type": "code",
        "colab": {},
        "outputId": "f4d4341a-0f21-4dd3-fccb-acd825f5656a"
      },
      "source": [
        "y.sum()"
      ],
      "execution_count": 0,
      "outputs": [
        {
          "output_type": "execute_result",
          "data": {
            "text/plain": [
              "317.0"
            ]
          },
          "metadata": {
            "tags": []
          },
          "execution_count": 10
        }
      ]
    },
    {
      "cell_type": "code",
      "metadata": {
        "id": "21D-itHJyC64",
        "colab_type": "code",
        "colab": {},
        "outputId": "56c4b221-2df7-4d4d-e451-a2891e78d114"
      },
      "source": [
        "len(y)"
      ],
      "execution_count": 0,
      "outputs": [
        {
          "output_type": "execute_result",
          "data": {
            "text/plain": [
              "54187"
            ]
          },
          "metadata": {
            "tags": []
          },
          "execution_count": 11
        }
      ]
    },
    {
      "cell_type": "code",
      "metadata": {
        "id": "VvCOEBk-yC68",
        "colab_type": "code",
        "colab": {},
        "outputId": "6b5c1d51-9f8e-42a0-8f8f-530660f669b4"
      },
      "source": [
        "y.sum()/len(y)"
      ],
      "execution_count": 0,
      "outputs": [
        {
          "output_type": "execute_result",
          "data": {
            "text/plain": [
              "0.005850111650395852"
            ]
          },
          "metadata": {
            "tags": []
          },
          "execution_count": 12
        }
      ]
    },
    {
      "cell_type": "code",
      "metadata": {
        "id": "X6VWo9dNyC6-",
        "colab_type": "code",
        "colab": {},
        "outputId": "7121e6eb-f3ec-4819-8a53-db4dcab8bccb"
      },
      "source": [
        "clf = XGBClassifier(base_score=0.005)\n",
        "clf.fit(X, y)"
      ],
      "execution_count": 0,
      "outputs": [
        {
          "output_type": "execute_result",
          "data": {
            "text/plain": [
              "XGBClassifier(base_score=0.005, booster='gbtree', colsample_bylevel=1,\n",
              "       colsample_bytree=1, gamma=0, learning_rate=0.1, max_delta_step=0,\n",
              "       max_depth=3, min_child_weight=1, missing=None, n_estimators=100,\n",
              "       n_jobs=1, nthread=None, objective='binary:logistic', random_state=0,\n",
              "       reg_alpha=0, reg_lambda=1, scale_pos_weight=1, seed=None,\n",
              "       silent=True, subsample=1)"
            ]
          },
          "metadata": {
            "tags": []
          },
          "execution_count": 13
        }
      ]
    },
    {
      "cell_type": "markdown",
      "metadata": {
        "id": "ibepTehcyC7A",
        "colab_type": "text"
      },
      "source": [
        "### Save Model"
      ]
    },
    {
      "cell_type": "code",
      "metadata": {
        "id": "_vYRQrJTyC7C",
        "colab_type": "code",
        "colab": {},
        "outputId": "845802b1-c637-414c-da8d-3751513a7f4c"
      },
      "source": [
        "import sys\n",
        "print(sys.version)"
      ],
      "execution_count": 0,
      "outputs": [
        {
          "output_type": "stream",
          "text": [
            "3.6.4 |Anaconda, Inc.| (default, Jan 16 2018, 10:22:32) [MSC v.1900 64 bit (AMD64)]\n"
          ],
          "name": "stdout"
        }
      ]
    },
    {
      "cell_type": "code",
      "metadata": {
        "id": "hy6cZXn0yC7G",
        "colab_type": "code",
        "colab": {}
      },
      "source": [
        "import pickle"
      ],
      "execution_count": 0,
      "outputs": []
    },
    {
      "cell_type": "code",
      "metadata": {
        "id": "4-YCxP-QyC7J",
        "colab_type": "code",
        "colab": {}
      },
      "source": [
        "# save the model to disk\n",
        "filename = 'XGBoost_Model.sav'\n",
        "pickle.dump(clf, open(filename, 'wb'))"
      ],
      "execution_count": 0,
      "outputs": []
    },
    {
      "cell_type": "markdown",
      "metadata": {
        "id": "tsMbRcS6yC7P",
        "colab_type": "text"
      },
      "source": [
        "### Load Model"
      ]
    },
    {
      "cell_type": "code",
      "metadata": {
        "id": "58ju7I-8yC7R",
        "colab_type": "code",
        "colab": {}
      },
      "source": [
        "# load the model from disk\n",
        "myModel = pickle.load(open(filename, 'rb'))"
      ],
      "execution_count": 0,
      "outputs": []
    },
    {
      "cell_type": "code",
      "metadata": {
        "id": "MSm0Si-PyC7S",
        "colab_type": "code",
        "colab": {},
        "outputId": "dd279a75-af6a-4ad8-f2b9-51c4921d95c7"
      },
      "source": [
        "# threshold for a manageable number of features\n",
        "plt.hist(myModel.feature_importances_[myModel.feature_importances_>0])\n",
        "important_indices = np.where(myModel.feature_importances_>0.005)[0]\n",
        "print(important_indices)"
      ],
      "execution_count": 0,
      "outputs": [
        {
          "output_type": "stream",
          "text": [
            "[  50   76  393  883  939 1018 1019 1029 1156 1169 1171 1173 1178 1194\n",
            " 1196 1202 1203 1210 1219 1227 1228 1233 1236 1245 1249 1254 1263 1277\n",
            " 1297 1310 1408 1516 1542 1549 1550 1618 1837 1838 1843 1846 1879 1880\n",
            " 1885 1889 1890 1892 1893 1899 1911 1927 1932 1944 1959 1966 1968 1974\n",
            " 1983 1984 1985 1987 1988 1990 1994 1995 1997 2006 2007 2010 2018 2022\n",
            " 2028 2084 2093 2107]\n"
          ],
          "name": "stdout"
        },
        {
          "output_type": "display_data",
          "data": {
            "image/png": "[encoded data removed]",
            "text/plain": [
              "<matplotlib.figure.Figure at 0x21a91bc6f60>"
            ]
          },
          "metadata": {
            "tags": []
          }
        }
      ]
    },
    {
      "cell_type": "markdown",
      "metadata": {
        "id": "VBsB0mv4yC7V",
        "colab_type": "text"
      },
      "source": [
        "### Model for entire data"
      ]
    },
    {
      "cell_type": "code",
      "metadata": {
        "id": "5l-_TccqyC7W",
        "colab_type": "code",
        "colab": {},
        "outputId": "f54bb386-afb5-4f67-9c84-cf3253efe36c"
      },
      "source": [
        "# load entire dataset for these features. \n",
        "# note where the feature indices are split so we can load the correct ones straight from read_csv\n",
        "n_date_features = 1156\n",
        "X = np.concatenate([\n",
        "    pd.read_csv(\"train_date.csv\", index_col=0, dtype=np.float32,\n",
        "                usecols=np.concatenate([[0], important_indices[important_indices < n_date_features] + 1])).values,\n",
        "    pd.read_csv(\"train_numeric.csv\", index_col=0, dtype=np.float32,\n",
        "                usecols=np.concatenate([[0], important_indices[important_indices >= n_date_features] + 1 - 1156])).values\n",
        "                ], axis=1)\n",
        "y = pd.read_csv(\"train_numeric.csv\", index_col=0, dtype=np.float32, usecols=[0,969]).values.ravel()"
      ],
      "execution_count": 0,
      "outputs": [
        {
          "output_type": "stream",
          "text": [
            "C:\\ProgramData\\Anaconda3\\lib\\site-packages\\numpy\\lib\\arraysetops.py:472: FutureWarning: elementwise comparison failed; returning scalar instead, but in the future will perform elementwise comparison\n",
            "  mask |= (ar1 == a)\n"
          ],
          "name": "stderr"
        }
      ]
    },
    {
      "cell_type": "code",
      "metadata": {
        "id": "TJWPBRIlyC7Z",
        "colab_type": "code",
        "colab": {},
        "outputId": "fc5ac4b5-c510-4876-dde1-6e3ee237f15c"
      },
      "source": [
        "clf_full_data = XGBClassifier(max_depth=5, base_score=0.005)\n",
        "skf = StratifiedKFold()\n",
        "skf.get_n_splits(X, y)\n",
        "preds = np.ones(y.shape[0])\n",
        "for train_index, test_index in skf.split(X, y):\n",
        "    print(\"TRAIN:\", train_index, \"TEST:\", test_index)\n",
        "    #X_train, X_test = X[train_index], X[test_index]\n",
        "    #y_train, y_test = y[train_index], y[test_index]\n",
        "    \n",
        "    preds[test_index] = clf_full_data.fit(X[train_index], y[train_index]).predict_proba(X[test_index])[:,1]\n",
        "    print(\"ROC AUC: \", roc_auc_score(y[test_index], preds[test_index]))"
      ],
      "execution_count": 0,
      "outputs": [
        {
          "output_type": "stream",
          "text": [
            "TRAIN: [ 394571  394572  394573 ... 1183744 1183745 1183746] TEST: [     0      1      2 ... 395664 395665 395695]\n",
            "ROC AUC:  0.7192622140871269\n",
            "TRAIN: [      0       1       2 ... 1183744 1183745 1183746] TEST: [394571 394572 394573 ... 790831 790909 790942]\n",
            "ROC AUC:  0.7020203750588716\n",
            "TRAIN: [     0      1      2 ... 790831 790909 790942] TEST: [ 789150  789151  789152 ... 1183744 1183745 1183746]\n",
            "ROC AUC:  0.6941438910222872\n"
          ],
          "name": "stdout"
        }
      ]
    },
    {
      "cell_type": "code",
      "metadata": {
        "id": "rFxW0yVMyC7h",
        "colab_type": "code",
        "colab": {},
        "outputId": "3f5ceb42-5518-44ff-f4a4-2a5092bff941"
      },
      "source": [
        "print(roc_auc_score(y, preds))"
      ],
      "execution_count": 0,
      "outputs": [
        {
          "output_type": "stream",
          "text": [
            "0.7047588696721703\n"
          ],
          "name": "stdout"
        }
      ]
    },
    {
      "cell_type": "markdown",
      "metadata": {
        "id": "QBRUmpvSyC7m",
        "colab_type": "text"
      },
      "source": [
        "### Save Model - Full Data"
      ]
    },
    {
      "cell_type": "code",
      "metadata": {
        "id": "mI5w-EfkyC7m",
        "colab_type": "code",
        "colab": {}
      },
      "source": [
        "# save the model to disk\n",
        "filename = 'XGBoost_Model_Full_Data.sav'\n",
        "pickle.dump(clf_full_data, open(filename, 'wb'))"
      ],
      "execution_count": 0,
      "outputs": []
    },
    {
      "cell_type": "markdown",
      "metadata": {
        "id": "xeS-R2OxyC7r",
        "colab_type": "text"
      },
      "source": [
        "### Load Model - Full Data"
      ]
    },
    {
      "cell_type": "code",
      "metadata": {
        "id": "8FXD9NbIyC7s",
        "colab_type": "code",
        "colab": {}
      },
      "source": [
        "# load the model from disk\n",
        "clf_full_data = pickle.load(open(filename, 'rb'))"
      ],
      "execution_count": 0,
      "outputs": []
    },
    {
      "cell_type": "code",
      "metadata": {
        "id": "DMEw0n0ayC7w",
        "colab_type": "code",
        "colab": {},
        "outputId": "e0ba6807-2740-4bf5-a5b3-4fc3f7d31c98"
      },
      "source": [
        "# pick the best threshold out-of-fold\n",
        "thresholds = np.linspace(0.01, 0.99, 50)\n",
        "mcc = np.array([matthews_corrcoef(y, preds>thr) for thr in thresholds])\n",
        "plt.plot(thresholds, mcc)\n",
        "best_threshold = thresholds[mcc.argmax()]\n",
        "print(mcc.max())"
      ],
      "execution_count": 0,
      "outputs": [
        {
          "output_type": "stream",
          "text": [
            "C:\\ProgramData\\Anaconda3\\lib\\site-packages\\sklearn\\metrics\\classification.py:538: RuntimeWarning: invalid value encountered in double_scalars\n",
            "  mcc = cov_ytyp / np.sqrt(cov_ytyt * cov_ypyp)\n"
          ],
          "name": "stderr"
        },
        {
          "output_type": "stream",
          "text": [
            "0.19472164446301074\n"
          ],
          "name": "stdout"
        },
        {
          "output_type": "display_data",
          "data": {
            "image/png": "[encoded data removed]",
            "text/plain": [
              "<matplotlib.figure.Figure at 0x21a9260a080>"
            ]
          },
          "metadata": {
            "tags": []
          }
        }
      ]
    },
    {
      "cell_type": "code",
      "metadata": {
        "id": "vWUrKf_xyC7z",
        "colab_type": "code",
        "colab": {}
      },
      "source": [
        "from sklearn.metrics import confusion_matrix, roc_curve, auc"
      ],
      "execution_count": 0,
      "outputs": []
    },
    {
      "cell_type": "code",
      "metadata": {
        "id": "LbLpJZ5-yC74",
        "colab_type": "code",
        "colab": {},
        "outputId": "a3d24079-7e3c-4ac5-f4ca-848518b8293a"
      },
      "source": [
        "confusion_matrix(y, preds>0.08)"
      ],
      "execution_count": 0,
      "outputs": [
        {
          "output_type": "execute_result",
          "data": {
            "text/plain": [
              "array([[1173116,    3752],\n",
              "       [   5738,    1141]], dtype=int64)"
            ]
          },
          "metadata": {
            "tags": []
          },
          "execution_count": 91
        }
      ]
    },
    {
      "cell_type": "code",
      "metadata": {
        "id": "Z8nHndFOyC76",
        "colab_type": "code",
        "colab": {},
        "outputId": "608ef07a-0dcb-4cc2-924c-746a90419b0a"
      },
      "source": [
        "y.shape"
      ],
      "execution_count": 0,
      "outputs": [
        {
          "output_type": "execute_result",
          "data": {
            "text/plain": [
              "(1183747,)"
            ]
          },
          "metadata": {
            "tags": []
          },
          "execution_count": 50
        }
      ]
    },
    {
      "cell_type": "code",
      "metadata": {
        "id": "YzjLhUt_yC78",
        "colab_type": "code",
        "colab": {},
        "outputId": "0209cbac-db7e-4153-82ab-1b1c1ced907a"
      },
      "source": [
        "y.sum()"
      ],
      "execution_count": 0,
      "outputs": [
        {
          "output_type": "execute_result",
          "data": {
            "text/plain": [
              "6879.0"
            ]
          },
          "metadata": {
            "tags": []
          },
          "execution_count": 57
        }
      ]
    },
    {
      "cell_type": "code",
      "metadata": {
        "id": "0Byoc0s0yC7_",
        "colab_type": "code",
        "colab": {},
        "outputId": "d84de24d-7a42-4f25-ad7b-5ff88c348496"
      },
      "source": [
        "preds[preds>.02].shape"
      ],
      "execution_count": 0,
      "outputs": [
        {
          "output_type": "execute_result",
          "data": {
            "text/plain": [
              "(9665,)"
            ]
          },
          "metadata": {
            "tags": []
          },
          "execution_count": 52
        }
      ]
    },
    {
      "cell_type": "code",
      "metadata": {
        "id": "ymAPb8m3yC8C",
        "colab_type": "code",
        "colab": {}
      },
      "source": [
        "fpr, tpr, threshold = roc_curve(y, preds)\n",
        "roc_auc = auc(fpr, tpr)"
      ],
      "execution_count": 0,
      "outputs": []
    },
    {
      "cell_type": "code",
      "metadata": {
        "id": "3xFtwb73yC8D",
        "colab_type": "code",
        "colab": {}
      },
      "source": [
        "%config InlineBackend.figure_format = 'retina'"
      ],
      "execution_count": 0,
      "outputs": []
    },
    {
      "cell_type": "code",
      "metadata": {
        "id": "86jcgWdsyC8F",
        "colab_type": "code",
        "colab": {},
        "outputId": "e9810a11-9fe1-4072-ce4f-bb7500695846"
      },
      "source": [
        "plt.figure()\n",
        "plt.plot(fpr, tpr, color='darkorange',\n",
        "         lw=2, label='ROC curve (area = %0.2f)' % roc_auc)\n",
        "plt.plot([0, 1], [0, 1], color='navy', lw=2, linestyle='--')\n",
        "plt.plot(fpr, threshold, color='red', lw=2, linestyle='--')\n",
        "plt.xlim([0.0, 1.0])\n",
        "plt.ylim([0.0, 1.05])\n",
        "plt.xlabel('False Positive Rate')\n",
        "plt.ylabel('True Positive Rate')\n",
        "plt.title('Receiver operating characteristic (ROC)')\n",
        "plt.legend(loc=\"lower right\")\n",
        "plt.show()"
      ],
      "execution_count": 0,
      "outputs": [
        {
          "output_type": "display_data",
          "data": {
            "image/png": "[encoded data removed]",
            "text/plain": [
              "<matplotlib.figure.Figure at 0x21a91c60fd0>"
            ]
          },
          "metadata": {
            "tags": [],
            "image/png": {
              "height": 277,
              "width": 393
            }
          }
        }
      ]
    },
    {
      "cell_type": "code",
      "metadata": {
        "id": "JDh62l9uyC8H",
        "colab_type": "code",
        "colab": {},
        "outputId": "064f1451-c96b-42d5-fadb-c1b3ba134612"
      },
      "source": [
        "plt.plot(fpr, threshold, color='red', lw=2, linestyle='--')\n",
        "plt.ylim([0.0, 0.02])"
      ],
      "execution_count": 0,
      "outputs": [
        {
          "output_type": "execute_result",
          "data": {
            "text/plain": [
              "(0.0, 0.02)"
            ]
          },
          "metadata": {
            "tags": []
          },
          "execution_count": 74
        },
        {
          "output_type": "display_data",
          "data": {
            "image/png": "[encoded data removed]",
            "text/plain": [
              "<matplotlib.figure.Figure at 0x21a9198d550>"
            ]
          },
          "metadata": {
            "tags": [],
            "image/png": {
              "height": 252,
              "width": 393
            }
          }
        }
      ]
    },
    {
      "cell_type": "code",
      "metadata": {
        "id": "UcdGWoPiyC8K",
        "colab_type": "code",
        "colab": {}
      },
      "source": [
        ""
      ],
      "execution_count": 0,
      "outputs": []
    }
  ]
}